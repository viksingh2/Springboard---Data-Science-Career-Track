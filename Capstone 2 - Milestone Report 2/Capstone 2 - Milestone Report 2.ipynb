{
 "cells": [
  {
   "cell_type": "code",
   "execution_count": 5,
   "metadata": {},
   "outputs": [],
   "source": [
    "import pandas as pd\n",
    "import math\n",
    "import matplotlib.pyplot as plt\n",
    "import numpy as np\n",
    "import seaborn as sns"
   ]
  },
  {
   "cell_type": "code",
   "execution_count": 6,
   "metadata": {
    "scrolled": true
   },
   "outputs": [],
   "source": [
    "file1 = pd.read_csv(r\"C:\\Users\\vsingh\\OneDrive - Red Clay Consulting, Inc\\Desktop\\chicago\\tomslee_airbnb_chicago_0010_2013-12-23.csv\")\n",
    "file2 = pd.read_csv(r\"C:\\Users\\vsingh\\OneDrive - Red Clay Consulting, Inc\\Desktop\\chicago\\tomslee_airbnb_chicago_0015_2014-05-13.csv\")\n",
    "file3 = pd.read_csv(r\"C:\\Users\\vsingh\\OneDrive - Red Clay Consulting, Inc\\Desktop\\chicago\\tomslee_airbnb_chicago_0086_2015-02-18.csv\")\n",
    "file4 = pd.read_csv(r\"C:\\Users\\vsingh\\OneDrive - Red Clay Consulting, Inc\\Desktop\\chicago\\tomslee_airbnb_chicago_0164_2015-10-03.csv\")\n",
    "file5 = pd.read_csv(r\"C:\\Users\\vsingh\\OneDrive - Red Clay Consulting, Inc\\Desktop\\chicago\\tomslee_airbnb_chicago_0186_2015-10-23.csv\")\n",
    "file6 = pd.read_csv(r\"C:\\Users\\vsingh\\OneDrive - Red Clay Consulting, Inc\\Desktop\\chicago\\tomslee_airbnb_chicago_0216_2015-11-26.csv\")\n",
    "file7 = pd.read_csv(r\"C:\\Users\\vsingh\\OneDrive - Red Clay Consulting, Inc\\Desktop\\chicago\\tomslee_airbnb_chicago_0240_2015-12-15.csv\")\n",
    "file8 = pd.read_csv(r\"C:\\Users\\vsingh\\OneDrive - Red Clay Consulting, Inc\\Desktop\\chicago\\tomslee_airbnb_chicago_0287_2016-01-19.csv\")\n",
    "file9 = pd.read_csv(r\"C:\\Users\\vsingh\\OneDrive - Red Clay Consulting, Inc\\Desktop\\chicago\\tomslee_airbnb_chicago_0326_2016-02-21.csv\")\n",
    "file10 = pd.read_csv(r\"C:\\Users\\vsingh\\OneDrive - Red Clay Consulting, Inc\\Desktop\\chicago\\tomslee_airbnb_chicago_0349_2016-03-21.csv\")\n",
    "file11 = pd.read_csv(r\"C:\\Users\\vsingh\\OneDrive - Red Clay Consulting, Inc\\Desktop\\chicago\\tomslee_airbnb_chicago_0391_2016-04-17.csv\")\n",
    "file12 = pd.read_csv(r\"C:\\Users\\vsingh\\OneDrive - Red Clay Consulting, Inc\\Desktop\\chicago\\tomslee_airbnb_chicago_0425_2016-05-21.csv\")\n",
    "file13 = pd.read_csv(r\"C:\\Users\\vsingh\\OneDrive - Red Clay Consulting, Inc\\Desktop\\chicago\\tomslee_airbnb_chicago_0466_2016-06-20.csv\")\n",
    "file14 = pd.read_csv(r\"C:\\Users\\vsingh\\OneDrive - Red Clay Consulting, Inc\\Desktop\\chicago\\tomslee_airbnb_chicago_0494_2016-07-18.csv\")\n",
    "file15 = pd.read_csv(r\"C:\\Users\\vsingh\\OneDrive - Red Clay Consulting, Inc\\Desktop\\chicago\\tomslee_airbnb_chicago_0529_2016-08-21.csv\")\n",
    "file16 = pd.read_csv(r\"C:\\Users\\vsingh\\OneDrive - Red Clay Consulting, Inc\\Desktop\\chicago\\tomslee_airbnb_chicago_0571_2016-09-18.csv\")\n",
    "file17 = pd.read_csv(r\"C:\\Users\\vsingh\\OneDrive - Red Clay Consulting, Inc\\Desktop\\chicago\\tomslee_airbnb_chicago_0615_2016-10-21.csv\")\n",
    "file18 = pd.read_csv(r\"C:\\Users\\vsingh\\OneDrive - Red Clay Consulting, Inc\\Desktop\\chicago\\tomslee_airbnb_chicago_0654_2016-11-24.csv\")\n",
    "file19 = pd.read_csv(r\"C:\\Users\\vsingh\\OneDrive - Red Clay Consulting, Inc\\Desktop\\chicago\\tomslee_airbnb_chicago_0711_2016-12-24.csv\")\n",
    "file20 = pd.read_csv(r\"C:\\Users\\vsingh\\OneDrive - Red Clay Consulting, Inc\\Desktop\\chicago\\tomslee_airbnb_chicago_0784_2017-01-14.csv\")\n",
    "file21 = pd.read_csv(r\"C:\\Users\\vsingh\\OneDrive - Red Clay Consulting, Inc\\Desktop\\chicago\\tomslee_airbnb_chicago_0863_2017-02-17.csv\")\n",
    "file22 = pd.read_csv(r\"C:\\Users\\vsingh\\OneDrive - Red Clay Consulting, Inc\\Desktop\\chicago\\tomslee_airbnb_chicago_0936_2017-03-13.csv\")\n",
    "file23 = pd.read_csv(r\"C:\\Users\\vsingh\\OneDrive - Red Clay Consulting, Inc\\Desktop\\chicago\\tomslee_airbnb_chicago_1048_2017-04-09.csv\")\n",
    "file24 = pd.read_csv(r\"C:\\Users\\vsingh\\OneDrive - Red Clay Consulting, Inc\\Desktop\\chicago\\tomslee_airbnb_chicago_1192_2017-05-06.csv\")\n",
    "file25 = pd.read_csv(r\"C:\\Users\\vsingh\\OneDrive - Red Clay Consulting, Inc\\Desktop\\chicago\\tomslee_airbnb_chicago_1314_2017-06-11.csv\")\n",
    "file26 = pd.read_csv(r\"C:\\Users\\vsingh\\OneDrive - Red Clay Consulting, Inc\\Desktop\\chicago\\tomslee_airbnb_chicago_1434_2017-07-11.csv\")"
   ]
  },
  {
   "cell_type": "code",
   "execution_count": 7,
   "metadata": {
    "scrolled": true
   },
   "outputs": [
    {
     "name": "stderr",
     "output_type": "stream",
     "text": [
      "c:\\users\\vsingh\\appdata\\local\\programs\\python\\python37-32\\lib\\site-packages\\pandas\\core\\frame.py:6211: FutureWarning: Sorting because non-concatenation axis is not aligned. A future version\n",
      "of pandas will change to not sort by default.\n",
      "\n",
      "To accept the future behavior, pass 'sort=False'.\n",
      "\n",
      "To retain the current behavior and silence the warning, pass 'sort=True'.\n",
      "\n",
      "  sort=sort)\n"
     ]
    }
   ],
   "source": [
    "temp = file1.append(file2).append(file3).append(file4).append(file5).append(file6).append(file7).append(file8).append(file9).append(file10).append(file11).append(file12).append(file13).append(file14).append(file15).append(file16).append(file17).append(file18).append(file19).append(file20).append(file21).append(file22).append(file23).append(file24).append(file25).append(file26)"
   ]
  },
  {
   "cell_type": "code",
   "execution_count": 8,
   "metadata": {},
   "outputs": [
    {
     "data": {
      "text/html": [
       "<div>\n",
       "<style scoped>\n",
       "    .dataframe tbody tr th:only-of-type {\n",
       "        vertical-align: middle;\n",
       "    }\n",
       "\n",
       "    .dataframe tbody tr th {\n",
       "        vertical-align: top;\n",
       "    }\n",
       "\n",
       "    .dataframe thead th {\n",
       "        text-align: right;\n",
       "    }\n",
       "</style>\n",
       "<table border=\"1\" class=\"dataframe\">\n",
       "  <thead>\n",
       "    <tr style=\"text-align: right;\">\n",
       "      <th></th>\n",
       "      <th>accommodates</th>\n",
       "      <th>bathrooms</th>\n",
       "      <th>bedrooms</th>\n",
       "      <th>borough</th>\n",
       "      <th>city</th>\n",
       "      <th>country</th>\n",
       "      <th>host_id</th>\n",
       "      <th>last_modified</th>\n",
       "      <th>latitude</th>\n",
       "      <th>location</th>\n",
       "      <th>longitude</th>\n",
       "      <th>minstay</th>\n",
       "      <th>neighborhood</th>\n",
       "      <th>overall_satisfaction</th>\n",
       "      <th>price</th>\n",
       "      <th>reviews</th>\n",
       "      <th>room_id</th>\n",
       "      <th>room_type</th>\n",
       "      <th>survey_id</th>\n",
       "    </tr>\n",
       "  </thead>\n",
       "  <tbody>\n",
       "    <tr>\n",
       "      <th>0</th>\n",
       "      <td>2.0</td>\n",
       "      <td>NaN</td>\n",
       "      <td>0.0</td>\n",
       "      <td>NaN</td>\n",
       "      <td>NaN</td>\n",
       "      <td>NaN</td>\n",
       "      <td>2153.0</td>\n",
       "      <td>12/23/2013 21:34</td>\n",
       "      <td>41.898283</td>\n",
       "      <td>NaN</td>\n",
       "      <td>-87.630834</td>\n",
       "      <td>3.0</td>\n",
       "      <td>Near North</td>\n",
       "      <td>NaN</td>\n",
       "      <td>93.0</td>\n",
       "      <td>0</td>\n",
       "      <td>1947</td>\n",
       "      <td>Private room</td>\n",
       "      <td>NaN</td>\n",
       "    </tr>\n",
       "    <tr>\n",
       "      <th>1</th>\n",
       "      <td>8.0</td>\n",
       "      <td>NaN</td>\n",
       "      <td>3.0</td>\n",
       "      <td>NaN</td>\n",
       "      <td>NaN</td>\n",
       "      <td>NaN</td>\n",
       "      <td>5775.0</td>\n",
       "      <td>12/23/2013 22:19</td>\n",
       "      <td>41.854953</td>\n",
       "      <td>NaN</td>\n",
       "      <td>-87.696962</td>\n",
       "      <td>2.0</td>\n",
       "      <td>Lawndale</td>\n",
       "      <td>5.0</td>\n",
       "      <td>98.0</td>\n",
       "      <td>186</td>\n",
       "      <td>4505</td>\n",
       "      <td>Entire home/apt</td>\n",
       "      <td>NaN</td>\n",
       "    </tr>\n",
       "    <tr>\n",
       "      <th>2</th>\n",
       "      <td>3.0</td>\n",
       "      <td>NaN</td>\n",
       "      <td>NaN</td>\n",
       "      <td>NaN</td>\n",
       "      <td>NaN</td>\n",
       "      <td>NaN</td>\n",
       "      <td>14175.0</td>\n",
       "      <td>12/23/2013 20:15</td>\n",
       "      <td>41.784508</td>\n",
       "      <td>NaN</td>\n",
       "      <td>-87.597431</td>\n",
       "      <td>2.0</td>\n",
       "      <td>Woodlawn</td>\n",
       "      <td>5.0</td>\n",
       "      <td>44.0</td>\n",
       "      <td>111</td>\n",
       "      <td>6453</td>\n",
       "      <td>Private room</td>\n",
       "      <td>NaN</td>\n",
       "    </tr>\n",
       "    <tr>\n",
       "      <th>3</th>\n",
       "      <td>14.0</td>\n",
       "      <td>NaN</td>\n",
       "      <td>4.0</td>\n",
       "      <td>NaN</td>\n",
       "      <td>NaN</td>\n",
       "      <td>NaN</td>\n",
       "      <td>15365.0</td>\n",
       "      <td>12/23/2013 21:17</td>\n",
       "      <td>41.929262</td>\n",
       "      <td>NaN</td>\n",
       "      <td>-87.660091</td>\n",
       "      <td>4.0</td>\n",
       "      <td>Wrightwood Neighbors</td>\n",
       "      <td>4.5</td>\n",
       "      <td>296.0</td>\n",
       "      <td>46</td>\n",
       "      <td>6715</td>\n",
       "      <td>Entire home/apt</td>\n",
       "      <td>NaN</td>\n",
       "    </tr>\n",
       "    <tr>\n",
       "      <th>4</th>\n",
       "      <td>2.0</td>\n",
       "      <td>NaN</td>\n",
       "      <td>0.0</td>\n",
       "      <td>NaN</td>\n",
       "      <td>NaN</td>\n",
       "      <td>NaN</td>\n",
       "      <td>2153.0</td>\n",
       "      <td>12/23/2013 23:41</td>\n",
       "      <td>41.898786</td>\n",
       "      <td>NaN</td>\n",
       "      <td>-87.632196</td>\n",
       "      <td>1.0</td>\n",
       "      <td>Near North</td>\n",
       "      <td>NaN</td>\n",
       "      <td>104.0</td>\n",
       "      <td>0</td>\n",
       "      <td>7005</td>\n",
       "      <td>Private room</td>\n",
       "      <td>NaN</td>\n",
       "    </tr>\n",
       "    <tr>\n",
       "      <th>5</th>\n",
       "      <td>2.0</td>\n",
       "      <td>NaN</td>\n",
       "      <td>NaN</td>\n",
       "      <td>NaN</td>\n",
       "      <td>NaN</td>\n",
       "      <td>NaN</td>\n",
       "      <td>17928.0</td>\n",
       "      <td>12/23/2013 22:41</td>\n",
       "      <td>41.902845</td>\n",
       "      <td>NaN</td>\n",
       "      <td>-87.681830</td>\n",
       "      <td>2.0</td>\n",
       "      <td>Ukrainian Village</td>\n",
       "      <td>4.5</td>\n",
       "      <td>99.0</td>\n",
       "      <td>121</td>\n",
       "      <td>7126</td>\n",
       "      <td>Entire home/apt</td>\n",
       "      <td>NaN</td>\n",
       "    </tr>\n",
       "    <tr>\n",
       "      <th>6</th>\n",
       "      <td>8.0</td>\n",
       "      <td>NaN</td>\n",
       "      <td>3.0</td>\n",
       "      <td>NaN</td>\n",
       "      <td>NaN</td>\n",
       "      <td>NaN</td>\n",
       "      <td>33004.0</td>\n",
       "      <td>12/23/2013 21:10</td>\n",
       "      <td>41.923769</td>\n",
       "      <td>NaN</td>\n",
       "      <td>-87.639671</td>\n",
       "      <td>3.0</td>\n",
       "      <td>Lincoln Park</td>\n",
       "      <td>NaN</td>\n",
       "      <td>301.0</td>\n",
       "      <td>0</td>\n",
       "      <td>9797</td>\n",
       "      <td>Entire home/apt</td>\n",
       "      <td>NaN</td>\n",
       "    </tr>\n",
       "    <tr>\n",
       "      <th>7</th>\n",
       "      <td>8.0</td>\n",
       "      <td>NaN</td>\n",
       "      <td>4.0</td>\n",
       "      <td>NaN</td>\n",
       "      <td>NaN</td>\n",
       "      <td>NaN</td>\n",
       "      <td>33004.0</td>\n",
       "      <td>12/23/2013 21:22</td>\n",
       "      <td>41.933233</td>\n",
       "      <td>NaN</td>\n",
       "      <td>-87.646036</td>\n",
       "      <td>3.0</td>\n",
       "      <td>Lake View East</td>\n",
       "      <td>4.5</td>\n",
       "      <td>301.0</td>\n",
       "      <td>2</td>\n",
       "      <td>9798</td>\n",
       "      <td>Entire home/apt</td>\n",
       "      <td>NaN</td>\n",
       "    </tr>\n",
       "    <tr>\n",
       "      <th>8</th>\n",
       "      <td>3.0</td>\n",
       "      <td>NaN</td>\n",
       "      <td>1.0</td>\n",
       "      <td>NaN</td>\n",
       "      <td>NaN</td>\n",
       "      <td>NaN</td>\n",
       "      <td>33004.0</td>\n",
       "      <td>12/23/2013 20:32</td>\n",
       "      <td>41.916541</td>\n",
       "      <td>NaN</td>\n",
       "      <td>-87.636765</td>\n",
       "      <td>3.0</td>\n",
       "      <td>Old Town Triangle</td>\n",
       "      <td>NaN</td>\n",
       "      <td>137.0</td>\n",
       "      <td>0</td>\n",
       "      <td>9811</td>\n",
       "      <td>Entire home/apt</td>\n",
       "      <td>NaN</td>\n",
       "    </tr>\n",
       "    <tr>\n",
       "      <th>9</th>\n",
       "      <td>2.0</td>\n",
       "      <td>NaN</td>\n",
       "      <td>NaN</td>\n",
       "      <td>NaN</td>\n",
       "      <td>NaN</td>\n",
       "      <td>NaN</td>\n",
       "      <td>33004.0</td>\n",
       "      <td>12/23/2013 21:09</td>\n",
       "      <td>41.902784</td>\n",
       "      <td>NaN</td>\n",
       "      <td>-87.626036</td>\n",
       "      <td>3.0</td>\n",
       "      <td>Gold Coast</td>\n",
       "      <td>5.0</td>\n",
       "      <td>181.0</td>\n",
       "      <td>1</td>\n",
       "      <td>9812</td>\n",
       "      <td>Entire home/apt</td>\n",
       "      <td>NaN</td>\n",
       "    </tr>\n",
       "  </tbody>\n",
       "</table>\n",
       "</div>"
      ],
      "text/plain": [
       "   accommodates  bathrooms  bedrooms  borough city  country  host_id  \\\n",
       "0           2.0        NaN       0.0      NaN  NaN      NaN   2153.0   \n",
       "1           8.0        NaN       3.0      NaN  NaN      NaN   5775.0   \n",
       "2           3.0        NaN       NaN      NaN  NaN      NaN  14175.0   \n",
       "3          14.0        NaN       4.0      NaN  NaN      NaN  15365.0   \n",
       "4           2.0        NaN       0.0      NaN  NaN      NaN   2153.0   \n",
       "5           2.0        NaN       NaN      NaN  NaN      NaN  17928.0   \n",
       "6           8.0        NaN       3.0      NaN  NaN      NaN  33004.0   \n",
       "7           8.0        NaN       4.0      NaN  NaN      NaN  33004.0   \n",
       "8           3.0        NaN       1.0      NaN  NaN      NaN  33004.0   \n",
       "9           2.0        NaN       NaN      NaN  NaN      NaN  33004.0   \n",
       "\n",
       "      last_modified   latitude location  longitude  minstay  \\\n",
       "0  12/23/2013 21:34  41.898283      NaN -87.630834      3.0   \n",
       "1  12/23/2013 22:19  41.854953      NaN -87.696962      2.0   \n",
       "2  12/23/2013 20:15  41.784508      NaN -87.597431      2.0   \n",
       "3  12/23/2013 21:17  41.929262      NaN -87.660091      4.0   \n",
       "4  12/23/2013 23:41  41.898786      NaN -87.632196      1.0   \n",
       "5  12/23/2013 22:41  41.902845      NaN -87.681830      2.0   \n",
       "6  12/23/2013 21:10  41.923769      NaN -87.639671      3.0   \n",
       "7  12/23/2013 21:22  41.933233      NaN -87.646036      3.0   \n",
       "8  12/23/2013 20:32  41.916541      NaN -87.636765      3.0   \n",
       "9  12/23/2013 21:09  41.902784      NaN -87.626036      3.0   \n",
       "\n",
       "           neighborhood  overall_satisfaction  price  reviews  room_id  \\\n",
       "0            Near North                   NaN   93.0        0     1947   \n",
       "1              Lawndale                   5.0   98.0      186     4505   \n",
       "2              Woodlawn                   5.0   44.0      111     6453   \n",
       "3  Wrightwood Neighbors                   4.5  296.0       46     6715   \n",
       "4            Near North                   NaN  104.0        0     7005   \n",
       "5     Ukrainian Village                   4.5   99.0      121     7126   \n",
       "6          Lincoln Park                   NaN  301.0        0     9797   \n",
       "7        Lake View East                   4.5  301.0        2     9798   \n",
       "8     Old Town Triangle                   NaN  137.0        0     9811   \n",
       "9            Gold Coast                   5.0  181.0        1     9812   \n",
       "\n",
       "         room_type  survey_id  \n",
       "0     Private room        NaN  \n",
       "1  Entire home/apt        NaN  \n",
       "2     Private room        NaN  \n",
       "3  Entire home/apt        NaN  \n",
       "4     Private room        NaN  \n",
       "5  Entire home/apt        NaN  \n",
       "6  Entire home/apt        NaN  \n",
       "7  Entire home/apt        NaN  \n",
       "8  Entire home/apt        NaN  \n",
       "9  Entire home/apt        NaN  "
      ]
     },
     "execution_count": 8,
     "metadata": {},
     "output_type": "execute_result"
    }
   ],
   "source": [
    "temp.head(10)"
   ]
  },
  {
   "cell_type": "code",
   "execution_count": 9,
   "metadata": {},
   "outputs": [
    {
     "name": "stdout",
     "output_type": "stream",
     "text": [
      "There are 0 values for the bathrooms column.\n",
      "There are 0 values for the borough column.\n",
      "There are 24426 values for the city column and 24426 of them are Chicago.\n",
      "There are 0 values for the country column.\n",
      "There are 24426 values for the location column.\n",
      "There are 24426 values for the survey_id column.\n"
     ]
    }
   ],
   "source": [
    "print(\"There are\", len(temp.bathrooms.dropna()), \"values for the bathrooms column.\")\n",
    "print(\"There are\", len(temp.borough.dropna()), \"values for the borough column.\")\n",
    "print(\"There are\", len(temp.city.dropna()), \"values for the city column and\", len(temp[temp['city'] == 'Chicago']), \"of them are Chicago.\")\n",
    "print(\"There are\", len(temp.country.dropna()), \"values for the country column.\")\n",
    "print(\"There are\", len(temp.location.dropna()), \"values for the location column.\")\n",
    "print(\"There are\", len(temp.survey_id.dropna()), \"values for the survey_id column.\")"
   ]
  },
  {
   "cell_type": "code",
   "execution_count": 10,
   "metadata": {},
   "outputs": [],
   "source": [
    "data = pd.DataFrame(temp.drop(['bathrooms', 'borough', 'city' ,'country', 'location', 'survey_id'], axis = 1))"
   ]
  },
  {
   "cell_type": "code",
   "execution_count": 11,
   "metadata": {
    "scrolled": false
   },
   "outputs": [
    {
     "data": {
      "text/html": [
       "<div>\n",
       "<style scoped>\n",
       "    .dataframe tbody tr th:only-of-type {\n",
       "        vertical-align: middle;\n",
       "    }\n",
       "\n",
       "    .dataframe tbody tr th {\n",
       "        vertical-align: top;\n",
       "    }\n",
       "\n",
       "    .dataframe thead th {\n",
       "        text-align: right;\n",
       "    }\n",
       "</style>\n",
       "<table border=\"1\" class=\"dataframe\">\n",
       "  <thead>\n",
       "    <tr style=\"text-align: right;\">\n",
       "      <th></th>\n",
       "      <th>accommodates</th>\n",
       "      <th>bedrooms</th>\n",
       "      <th>host_id</th>\n",
       "      <th>last_modified</th>\n",
       "      <th>latitude</th>\n",
       "      <th>longitude</th>\n",
       "      <th>minstay</th>\n",
       "      <th>neighborhood</th>\n",
       "      <th>overall_satisfaction</th>\n",
       "      <th>price</th>\n",
       "      <th>reviews</th>\n",
       "      <th>room_id</th>\n",
       "      <th>room_type</th>\n",
       "    </tr>\n",
       "  </thead>\n",
       "  <tbody>\n",
       "    <tr>\n",
       "      <th>0</th>\n",
       "      <td>2.0</td>\n",
       "      <td>0.0</td>\n",
       "      <td>2153.0</td>\n",
       "      <td>12/23/2013 21:34</td>\n",
       "      <td>41.898283</td>\n",
       "      <td>-87.630834</td>\n",
       "      <td>3.0</td>\n",
       "      <td>Near North</td>\n",
       "      <td>NaN</td>\n",
       "      <td>93.0</td>\n",
       "      <td>0</td>\n",
       "      <td>1947</td>\n",
       "      <td>Private room</td>\n",
       "    </tr>\n",
       "    <tr>\n",
       "      <th>1</th>\n",
       "      <td>8.0</td>\n",
       "      <td>3.0</td>\n",
       "      <td>5775.0</td>\n",
       "      <td>12/23/2013 22:19</td>\n",
       "      <td>41.854953</td>\n",
       "      <td>-87.696962</td>\n",
       "      <td>2.0</td>\n",
       "      <td>Lawndale</td>\n",
       "      <td>5.0</td>\n",
       "      <td>98.0</td>\n",
       "      <td>186</td>\n",
       "      <td>4505</td>\n",
       "      <td>Entire home/apt</td>\n",
       "    </tr>\n",
       "    <tr>\n",
       "      <th>2</th>\n",
       "      <td>3.0</td>\n",
       "      <td>NaN</td>\n",
       "      <td>14175.0</td>\n",
       "      <td>12/23/2013 20:15</td>\n",
       "      <td>41.784508</td>\n",
       "      <td>-87.597431</td>\n",
       "      <td>2.0</td>\n",
       "      <td>Woodlawn</td>\n",
       "      <td>5.0</td>\n",
       "      <td>44.0</td>\n",
       "      <td>111</td>\n",
       "      <td>6453</td>\n",
       "      <td>Private room</td>\n",
       "    </tr>\n",
       "    <tr>\n",
       "      <th>3</th>\n",
       "      <td>14.0</td>\n",
       "      <td>4.0</td>\n",
       "      <td>15365.0</td>\n",
       "      <td>12/23/2013 21:17</td>\n",
       "      <td>41.929262</td>\n",
       "      <td>-87.660091</td>\n",
       "      <td>4.0</td>\n",
       "      <td>Wrightwood Neighbors</td>\n",
       "      <td>4.5</td>\n",
       "      <td>296.0</td>\n",
       "      <td>46</td>\n",
       "      <td>6715</td>\n",
       "      <td>Entire home/apt</td>\n",
       "    </tr>\n",
       "    <tr>\n",
       "      <th>4</th>\n",
       "      <td>2.0</td>\n",
       "      <td>0.0</td>\n",
       "      <td>2153.0</td>\n",
       "      <td>12/23/2013 23:41</td>\n",
       "      <td>41.898786</td>\n",
       "      <td>-87.632196</td>\n",
       "      <td>1.0</td>\n",
       "      <td>Near North</td>\n",
       "      <td>NaN</td>\n",
       "      <td>104.0</td>\n",
       "      <td>0</td>\n",
       "      <td>7005</td>\n",
       "      <td>Private room</td>\n",
       "    </tr>\n",
       "    <tr>\n",
       "      <th>5</th>\n",
       "      <td>2.0</td>\n",
       "      <td>NaN</td>\n",
       "      <td>17928.0</td>\n",
       "      <td>12/23/2013 22:41</td>\n",
       "      <td>41.902845</td>\n",
       "      <td>-87.681830</td>\n",
       "      <td>2.0</td>\n",
       "      <td>Ukrainian Village</td>\n",
       "      <td>4.5</td>\n",
       "      <td>99.0</td>\n",
       "      <td>121</td>\n",
       "      <td>7126</td>\n",
       "      <td>Entire home/apt</td>\n",
       "    </tr>\n",
       "    <tr>\n",
       "      <th>6</th>\n",
       "      <td>8.0</td>\n",
       "      <td>3.0</td>\n",
       "      <td>33004.0</td>\n",
       "      <td>12/23/2013 21:10</td>\n",
       "      <td>41.923769</td>\n",
       "      <td>-87.639671</td>\n",
       "      <td>3.0</td>\n",
       "      <td>Lincoln Park</td>\n",
       "      <td>NaN</td>\n",
       "      <td>301.0</td>\n",
       "      <td>0</td>\n",
       "      <td>9797</td>\n",
       "      <td>Entire home/apt</td>\n",
       "    </tr>\n",
       "    <tr>\n",
       "      <th>7</th>\n",
       "      <td>8.0</td>\n",
       "      <td>4.0</td>\n",
       "      <td>33004.0</td>\n",
       "      <td>12/23/2013 21:22</td>\n",
       "      <td>41.933233</td>\n",
       "      <td>-87.646036</td>\n",
       "      <td>3.0</td>\n",
       "      <td>Lake View East</td>\n",
       "      <td>4.5</td>\n",
       "      <td>301.0</td>\n",
       "      <td>2</td>\n",
       "      <td>9798</td>\n",
       "      <td>Entire home/apt</td>\n",
       "    </tr>\n",
       "    <tr>\n",
       "      <th>8</th>\n",
       "      <td>3.0</td>\n",
       "      <td>1.0</td>\n",
       "      <td>33004.0</td>\n",
       "      <td>12/23/2013 20:32</td>\n",
       "      <td>41.916541</td>\n",
       "      <td>-87.636765</td>\n",
       "      <td>3.0</td>\n",
       "      <td>Old Town Triangle</td>\n",
       "      <td>NaN</td>\n",
       "      <td>137.0</td>\n",
       "      <td>0</td>\n",
       "      <td>9811</td>\n",
       "      <td>Entire home/apt</td>\n",
       "    </tr>\n",
       "    <tr>\n",
       "      <th>9</th>\n",
       "      <td>2.0</td>\n",
       "      <td>NaN</td>\n",
       "      <td>33004.0</td>\n",
       "      <td>12/23/2013 21:09</td>\n",
       "      <td>41.902784</td>\n",
       "      <td>-87.626036</td>\n",
       "      <td>3.0</td>\n",
       "      <td>Gold Coast</td>\n",
       "      <td>5.0</td>\n",
       "      <td>181.0</td>\n",
       "      <td>1</td>\n",
       "      <td>9812</td>\n",
       "      <td>Entire home/apt</td>\n",
       "    </tr>\n",
       "  </tbody>\n",
       "</table>\n",
       "</div>"
      ],
      "text/plain": [
       "   accommodates  bedrooms  host_id     last_modified   latitude  longitude  \\\n",
       "0           2.0       0.0   2153.0  12/23/2013 21:34  41.898283 -87.630834   \n",
       "1           8.0       3.0   5775.0  12/23/2013 22:19  41.854953 -87.696962   \n",
       "2           3.0       NaN  14175.0  12/23/2013 20:15  41.784508 -87.597431   \n",
       "3          14.0       4.0  15365.0  12/23/2013 21:17  41.929262 -87.660091   \n",
       "4           2.0       0.0   2153.0  12/23/2013 23:41  41.898786 -87.632196   \n",
       "5           2.0       NaN  17928.0  12/23/2013 22:41  41.902845 -87.681830   \n",
       "6           8.0       3.0  33004.0  12/23/2013 21:10  41.923769 -87.639671   \n",
       "7           8.0       4.0  33004.0  12/23/2013 21:22  41.933233 -87.646036   \n",
       "8           3.0       1.0  33004.0  12/23/2013 20:32  41.916541 -87.636765   \n",
       "9           2.0       NaN  33004.0  12/23/2013 21:09  41.902784 -87.626036   \n",
       "\n",
       "   minstay          neighborhood  overall_satisfaction  price  reviews  \\\n",
       "0      3.0            Near North                   NaN   93.0        0   \n",
       "1      2.0              Lawndale                   5.0   98.0      186   \n",
       "2      2.0              Woodlawn                   5.0   44.0      111   \n",
       "3      4.0  Wrightwood Neighbors                   4.5  296.0       46   \n",
       "4      1.0            Near North                   NaN  104.0        0   \n",
       "5      2.0     Ukrainian Village                   4.5   99.0      121   \n",
       "6      3.0          Lincoln Park                   NaN  301.0        0   \n",
       "7      3.0        Lake View East                   4.5  301.0        2   \n",
       "8      3.0     Old Town Triangle                   NaN  137.0        0   \n",
       "9      3.0            Gold Coast                   5.0  181.0        1   \n",
       "\n",
       "   room_id        room_type  \n",
       "0     1947     Private room  \n",
       "1     4505  Entire home/apt  \n",
       "2     6453     Private room  \n",
       "3     6715  Entire home/apt  \n",
       "4     7005     Private room  \n",
       "5     7126  Entire home/apt  \n",
       "6     9797  Entire home/apt  \n",
       "7     9798  Entire home/apt  \n",
       "8     9811  Entire home/apt  \n",
       "9     9812  Entire home/apt  "
      ]
     },
     "execution_count": 11,
     "metadata": {},
     "output_type": "execute_result"
    }
   ],
   "source": [
    "data.head(10)"
   ]
  },
  {
   "cell_type": "code",
   "execution_count": 12,
   "metadata": {},
   "outputs": [
    {
     "data": {
      "text/html": [
       "<div>\n",
       "<style scoped>\n",
       "    .dataframe tbody tr th:only-of-type {\n",
       "        vertical-align: middle;\n",
       "    }\n",
       "\n",
       "    .dataframe tbody tr th {\n",
       "        vertical-align: top;\n",
       "    }\n",
       "\n",
       "    .dataframe thead th {\n",
       "        text-align: right;\n",
       "    }\n",
       "</style>\n",
       "<table border=\"1\" class=\"dataframe\">\n",
       "  <thead>\n",
       "    <tr style=\"text-align: right;\">\n",
       "      <th></th>\n",
       "      <th>accommodates</th>\n",
       "      <th>bedrooms</th>\n",
       "      <th>host_id</th>\n",
       "      <th>latitude</th>\n",
       "      <th>longitude</th>\n",
       "      <th>minstay</th>\n",
       "      <th>overall_satisfaction</th>\n",
       "      <th>price</th>\n",
       "      <th>reviews</th>\n",
       "      <th>room_id</th>\n",
       "    </tr>\n",
       "  </thead>\n",
       "  <tbody>\n",
       "    <tr>\n",
       "      <th>count</th>\n",
       "      <td>153513.000000</td>\n",
       "      <td>150377.000000</td>\n",
       "      <td>1.591780e+05</td>\n",
       "      <td>159181.000000</td>\n",
       "      <td>159181.000000</td>\n",
       "      <td>96087.000000</td>\n",
       "      <td>127587.000000</td>\n",
       "      <td>159181.000000</td>\n",
       "      <td>159181.000000</td>\n",
       "      <td>1.591810e+05</td>\n",
       "    </tr>\n",
       "    <tr>\n",
       "      <th>mean</th>\n",
       "      <td>3.370438</td>\n",
       "      <td>1.352487</td>\n",
       "      <td>2.821490e+07</td>\n",
       "      <td>41.909507</td>\n",
       "      <td>-87.661418</td>\n",
       "      <td>2.383288</td>\n",
       "      <td>4.019159</td>\n",
       "      <td>146.892732</td>\n",
       "      <td>17.286950</td>\n",
       "      <td>8.704668e+06</td>\n",
       "    </tr>\n",
       "    <tr>\n",
       "      <th>std</th>\n",
       "      <td>2.185412</td>\n",
       "      <td>0.853402</td>\n",
       "      <td>2.655922e+07</td>\n",
       "      <td>0.051219</td>\n",
       "      <td>0.035180</td>\n",
       "      <td>8.846451</td>\n",
       "      <td>1.755894</td>\n",
       "      <td>203.994684</td>\n",
       "      <td>30.889702</td>\n",
       "      <td>4.841577e+06</td>\n",
       "    </tr>\n",
       "    <tr>\n",
       "      <th>min</th>\n",
       "      <td>1.000000</td>\n",
       "      <td>0.000000</td>\n",
       "      <td>3.040000e+02</td>\n",
       "      <td>41.651558</td>\n",
       "      <td>-87.844492</td>\n",
       "      <td>1.000000</td>\n",
       "      <td>0.000000</td>\n",
       "      <td>10.000000</td>\n",
       "      <td>0.000000</td>\n",
       "      <td>1.947000e+03</td>\n",
       "    </tr>\n",
       "    <tr>\n",
       "      <th>25%</th>\n",
       "      <td>2.000000</td>\n",
       "      <td>1.000000</td>\n",
       "      <td>6.510575e+06</td>\n",
       "      <td>41.886788</td>\n",
       "      <td>-87.681979</td>\n",
       "      <td>1.000000</td>\n",
       "      <td>4.500000</td>\n",
       "      <td>65.000000</td>\n",
       "      <td>1.000000</td>\n",
       "      <td>4.978940e+06</td>\n",
       "    </tr>\n",
       "    <tr>\n",
       "      <th>50%</th>\n",
       "      <td>3.000000</td>\n",
       "      <td>1.000000</td>\n",
       "      <td>2.168553e+07</td>\n",
       "      <td>41.910610</td>\n",
       "      <td>-87.658652</td>\n",
       "      <td>1.000000</td>\n",
       "      <td>5.000000</td>\n",
       "      <td>100.000000</td>\n",
       "      <td>5.000000</td>\n",
       "      <td>8.294175e+06</td>\n",
       "    </tr>\n",
       "    <tr>\n",
       "      <th>75%</th>\n",
       "      <td>4.000000</td>\n",
       "      <td>2.000000</td>\n",
       "      <td>4.223474e+07</td>\n",
       "      <td>41.943247</td>\n",
       "      <td>-87.637933</td>\n",
       "      <td>2.000000</td>\n",
       "      <td>5.000000</td>\n",
       "      <td>160.000000</td>\n",
       "      <td>19.000000</td>\n",
       "      <td>1.298805e+07</td>\n",
       "    </tr>\n",
       "    <tr>\n",
       "      <th>max</th>\n",
       "      <td>16.000000</td>\n",
       "      <td>10.000000</td>\n",
       "      <td>1.397313e+08</td>\n",
       "      <td>42.022929</td>\n",
       "      <td>-87.526472</td>\n",
       "      <td>500.000000</td>\n",
       "      <td>5.000000</td>\n",
       "      <td>10000.000000</td>\n",
       "      <td>427.000000</td>\n",
       "      <td>1.979231e+07</td>\n",
       "    </tr>\n",
       "  </tbody>\n",
       "</table>\n",
       "</div>"
      ],
      "text/plain": [
       "        accommodates       bedrooms       host_id       latitude  \\\n",
       "count  153513.000000  150377.000000  1.591780e+05  159181.000000   \n",
       "mean        3.370438       1.352487  2.821490e+07      41.909507   \n",
       "std         2.185412       0.853402  2.655922e+07       0.051219   \n",
       "min         1.000000       0.000000  3.040000e+02      41.651558   \n",
       "25%         2.000000       1.000000  6.510575e+06      41.886788   \n",
       "50%         3.000000       1.000000  2.168553e+07      41.910610   \n",
       "75%         4.000000       2.000000  4.223474e+07      41.943247   \n",
       "max        16.000000      10.000000  1.397313e+08      42.022929   \n",
       "\n",
       "           longitude       minstay  overall_satisfaction          price  \\\n",
       "count  159181.000000  96087.000000         127587.000000  159181.000000   \n",
       "mean      -87.661418      2.383288              4.019159     146.892732   \n",
       "std         0.035180      8.846451              1.755894     203.994684   \n",
       "min       -87.844492      1.000000              0.000000      10.000000   \n",
       "25%       -87.681979      1.000000              4.500000      65.000000   \n",
       "50%       -87.658652      1.000000              5.000000     100.000000   \n",
       "75%       -87.637933      2.000000              5.000000     160.000000   \n",
       "max       -87.526472    500.000000              5.000000   10000.000000   \n",
       "\n",
       "             reviews       room_id  \n",
       "count  159181.000000  1.591810e+05  \n",
       "mean       17.286950  8.704668e+06  \n",
       "std        30.889702  4.841577e+06  \n",
       "min         0.000000  1.947000e+03  \n",
       "25%         1.000000  4.978940e+06  \n",
       "50%         5.000000  8.294175e+06  \n",
       "75%        19.000000  1.298805e+07  \n",
       "max       427.000000  1.979231e+07  "
      ]
     },
     "execution_count": 12,
     "metadata": {},
     "output_type": "execute_result"
    }
   ],
   "source": [
    "data.describe()"
   ]
  },
  {
   "cell_type": "code",
   "execution_count": 13,
   "metadata": {},
   "outputs": [
    {
     "name": "stdout",
     "output_type": "stream",
     "text": [
      "There are 5668 missing values for the accommodates column.\n",
      "There are 8804 missing values for the bedrooms column.\n",
      "There are 3 missing values for the Host ID column.\n",
      "There are 0 missing values for the latitude column.\n",
      "There are 0 missing values for the longitude column.\n",
      "There are 63094 missing values for the minstay column.\n",
      "There are 31594 missing values for the overall satisfaction column.\n",
      "There are 0 missing values for the price column.\n",
      "There are 0 missing values for the reviews column.\n",
      "There are 0 missing values for the Room ID column.\n"
     ]
    }
   ],
   "source": [
    "print(\"There are\", sum(data['accommodates'].isnull()), \"missing values for the accommodates column.\")\n",
    "print(\"There are\", sum(data['bedrooms'].isnull()), \"missing values for the bedrooms column.\")\n",
    "print(\"There are\", sum(data['host_id'].isnull()), \"missing values for the Host ID column.\")\n",
    "print(\"There are\", sum(data['latitude'].isnull()), \"missing values for the latitude column.\")\n",
    "print(\"There are\", sum(data['longitude'].isnull()), \"missing values for the longitude column.\")\n",
    "print(\"There are\", sum(data['minstay'].isnull()), \"missing values for the minstay column.\")\n",
    "print(\"There are\", sum(data['overall_satisfaction'].isnull()), \"missing values for the overall satisfaction column.\")\n",
    "print(\"There are\", sum(data['price'].isnull()), \"missing values for the price column.\")\n",
    "print(\"There are\", sum(data['reviews'].isnull()), \"missing values for the reviews column.\")\n",
    "print(\"There are\", sum(data['room_id'].isnull()), \"missing values for the Room ID column.\")"
   ]
  },
  {
   "cell_type": "code",
   "execution_count": 14,
   "metadata": {},
   "outputs": [],
   "source": [
    "data['accommodates'] = data['accommodates'].fillna(3)\n",
    "data['bedrooms'] = data['bedrooms'].fillna(1)\n",
    "data['minstay'] = data['minstay'].fillna(1)\n",
    "data['overall_satisfaction'] = data['overall_satisfaction'].fillna(4)"
   ]
  },
  {
   "cell_type": "code",
   "execution_count": 123,
   "metadata": {
    "scrolled": true
   },
   "outputs": [
    {
     "data": {
      "text/plain": [
       "<matplotlib.axes._subplots.AxesSubplot at 0x1d7fe610>"
      ]
     },
     "execution_count": 123,
     "metadata": {},
     "output_type": "execute_result"
    },
    {
     "data": {
      "image/png": "[encoded data removed]",
      "text/plain": [
       "<Figure size 864x720 with 1 Axes>"
      ]
     },
     "metadata": {},
     "output_type": "display_data"
    }
   ],
   "source": [
    "sns.set(rc={'figure.figsize':(12,10)})\n",
    "sns.countplot(data['accommodates'])"
   ]
  },
  {
   "cell_type": "code",
   "execution_count": 16,
   "metadata": {},
   "outputs": [
    {
     "data": {
      "text/plain": [
       "<matplotlib.axes._subplots.AxesSubplot at 0x10beed90>"
      ]
     },
     "execution_count": 16,
     "metadata": {},
     "output_type": "execute_result"
    },
    {
     "data": {
      "image/png": "[encoded data removed]",
      "text/plain": [
       "<Figure size 576x576 with 1 Axes>"
      ]
     },
     "metadata": {},
     "output_type": "display_data"
    }
   ],
   "source": [
    "sns.countplot(data['bedrooms'])"
   ]
  },
  {
   "cell_type": "code",
   "execution_count": 17,
   "metadata": {},
   "outputs": [
    {
     "data": {
      "text/plain": [
       "Text(0.5,0,'Customer Satisfaction')"
      ]
     },
     "execution_count": 17,
     "metadata": {},
     "output_type": "execute_result"
    },
    {
     "data": {
      "image/png": "[encoded data removed]",
      "text/plain": [
       "<Figure size 576x576 with 1 Axes>"
      ]
     },
     "metadata": {},
     "output_type": "display_data"
    }
   ],
   "source": [
    "sns.countplot(data['overall_satisfaction'])\n",
    "plt.xlabel(\"Customer Satisfaction\")"
   ]
  },
  {
   "cell_type": "code",
   "execution_count": 18,
   "metadata": {},
   "outputs": [
    {
     "data": {
      "text/plain": [
       "195"
      ]
     },
     "execution_count": 18,
     "metadata": {},
     "output_type": "execute_result"
    }
   ],
   "source": [
    "myDict = {}\n",
    "\n",
    "for i in data['neighborhood']:\n",
    "    if i not in myDict.keys():\n",
    "        myDict[i] = 1\n",
    "    else:\n",
    "        myDict[i] += 1      \n",
    "len(myDict)"
   ]
  },
  {
   "cell_type": "code",
   "execution_count": 19,
   "metadata": {},
   "outputs": [
    {
     "data": {
      "text/plain": [
       "(0, 4000)"
      ]
     },
     "execution_count": 19,
     "metadata": {},
     "output_type": "execute_result"
    },
    {
     "data": {
      "image/png": "[encoded data removed]",
      "text/plain": [
       "<Figure size 576x576 with 1 Axes>"
      ]
     },
     "metadata": {},
     "output_type": "display_data"
    }
   ],
   "source": [
    "plt.hist(data['price'], bins = 80)\n",
    "plt.xlim([0, 4000])"
   ]
  },
  {
   "cell_type": "code",
   "execution_count": 20,
   "metadata": {},
   "outputs": [
    {
     "data": {
      "text/plain": [
       "Text(0.5,1,'Price vs. Customer Satisfaction')"
      ]
     },
     "execution_count": 20,
     "metadata": {},
     "output_type": "execute_result"
    },
    {
     "data": {
      "image/png": "[encoded data removed]",
      "text/plain": [
       "<Figure size 576x576 with 1 Axes>"
      ]
     },
     "metadata": {},
     "output_type": "display_data"
    }
   ],
   "source": [
    "plt.scatter(data.price, data.overall_satisfaction)\n",
    "plt.xlabel(\"Price\")\n",
    "plt.ylabel(\"Customer Satisfaction\")\n",
    "plt.title(\"Price vs. Customer Satisfaction\")"
   ]
  },
  {
   "cell_type": "code",
   "execution_count": 21,
   "metadata": {},
   "outputs": [
    {
     "data": {
      "image/png": "[encoded data removed]",
      "text/plain": [
       "<Figure size 576x576 with 1 Axes>"
      ]
     },
     "metadata": {},
     "output_type": "display_data"
    }
   ],
   "source": [
    "data['price_log'] = np.log(data['price'] + 1)\n",
    "price_ranking = data.groupby(\"overall_satisfaction\")['price'].median().sort_values().index\n",
    "catplot = sns.boxplot(x='overall_satisfaction', y='price_log', data=data, palette=\"Set1\", order = price_ranking)"
   ]
  },
  {
   "cell_type": "code",
   "execution_count": 22,
   "metadata": {},
   "outputs": [
    {
     "data": {
      "text/plain": [
       "<matplotlib.axes._subplots.AxesSubplot at 0x104df5d0>"
      ]
     },
     "execution_count": 22,
     "metadata": {},
     "output_type": "execute_result"
    },
    {
     "data": {
      "image/png": "[encoded data removed]",
      "text/plain": [
       "<Figure size 576x576 with 1 Axes>"
      ]
     },
     "metadata": {},
     "output_type": "display_data"
    }
   ],
   "source": [
    "sns.countplot(data['room_type'])"
   ]
  },
  {
   "cell_type": "code",
   "execution_count": 23,
   "metadata": {},
   "outputs": [
    {
     "data": {
      "text/html": [
       "<div>\n",
       "<style scoped>\n",
       "    .dataframe tbody tr th:only-of-type {\n",
       "        vertical-align: middle;\n",
       "    }\n",
       "\n",
       "    .dataframe tbody tr th {\n",
       "        vertical-align: top;\n",
       "    }\n",
       "\n",
       "    .dataframe thead th {\n",
       "        text-align: right;\n",
       "    }\n",
       "</style>\n",
       "<table border=\"1\" class=\"dataframe\">\n",
       "  <thead>\n",
       "    <tr style=\"text-align: right;\">\n",
       "      <th></th>\n",
       "      <th>accommodates</th>\n",
       "      <th>bedrooms</th>\n",
       "      <th>host_id</th>\n",
       "      <th>latitude</th>\n",
       "      <th>longitude</th>\n",
       "      <th>minstay</th>\n",
       "      <th>overall_satisfaction</th>\n",
       "      <th>price</th>\n",
       "      <th>reviews</th>\n",
       "      <th>room_id</th>\n",
       "      <th>price_log</th>\n",
       "    </tr>\n",
       "  </thead>\n",
       "  <tbody>\n",
       "    <tr>\n",
       "      <th>count</th>\n",
       "      <td>58045.000000</td>\n",
       "      <td>58045.000000</td>\n",
       "      <td>5.804500e+04</td>\n",
       "      <td>58045.000000</td>\n",
       "      <td>58045.000000</td>\n",
       "      <td>58045.000000</td>\n",
       "      <td>58045.000000</td>\n",
       "      <td>58045.000000</td>\n",
       "      <td>58045.000000</td>\n",
       "      <td>5.804500e+04</td>\n",
       "      <td>58045.000000</td>\n",
       "    </tr>\n",
       "    <tr>\n",
       "      <th>mean</th>\n",
       "      <td>2.158515</td>\n",
       "      <td>1.009682</td>\n",
       "      <td>2.757286e+07</td>\n",
       "      <td>41.905426</td>\n",
       "      <td>-87.667750</td>\n",
       "      <td>1.456697</td>\n",
       "      <td>4.081256</td>\n",
       "      <td>78.784167</td>\n",
       "      <td>19.337204</td>\n",
       "      <td>8.457172e+06</td>\n",
       "      <td>4.214949</td>\n",
       "    </tr>\n",
       "    <tr>\n",
       "      <th>std</th>\n",
       "      <td>1.128597</td>\n",
       "      <td>0.152876</td>\n",
       "      <td>2.626225e+07</td>\n",
       "      <td>0.058409</td>\n",
       "      <td>0.038793</td>\n",
       "      <td>5.559643</td>\n",
       "      <td>1.525446</td>\n",
       "      <td>101.522796</td>\n",
       "      <td>33.169271</td>\n",
       "      <td>4.843903e+06</td>\n",
       "      <td>0.504926</td>\n",
       "    </tr>\n",
       "    <tr>\n",
       "      <th>min</th>\n",
       "      <td>1.000000</td>\n",
       "      <td>0.000000</td>\n",
       "      <td>2.140000e+03</td>\n",
       "      <td>41.658687</td>\n",
       "      <td>-87.844492</td>\n",
       "      <td>1.000000</td>\n",
       "      <td>0.000000</td>\n",
       "      <td>10.000000</td>\n",
       "      <td>0.000000</td>\n",
       "      <td>1.947000e+03</td>\n",
       "      <td>2.397895</td>\n",
       "    </tr>\n",
       "    <tr>\n",
       "      <th>25%</th>\n",
       "      <td>2.000000</td>\n",
       "      <td>1.000000</td>\n",
       "      <td>6.309410e+06</td>\n",
       "      <td>41.873027</td>\n",
       "      <td>-87.689793</td>\n",
       "      <td>1.000000</td>\n",
       "      <td>4.000000</td>\n",
       "      <td>49.000000</td>\n",
       "      <td>1.000000</td>\n",
       "      <td>4.662201e+06</td>\n",
       "      <td>3.912023</td>\n",
       "    </tr>\n",
       "    <tr>\n",
       "      <th>50%</th>\n",
       "      <td>2.000000</td>\n",
       "      <td>1.000000</td>\n",
       "      <td>2.066551e+07</td>\n",
       "      <td>41.910493</td>\n",
       "      <td>-87.666321</td>\n",
       "      <td>1.000000</td>\n",
       "      <td>4.500000</td>\n",
       "      <td>65.000000</td>\n",
       "      <td>6.000000</td>\n",
       "      <td>8.055273e+06</td>\n",
       "      <td>4.189655</td>\n",
       "    </tr>\n",
       "    <tr>\n",
       "      <th>75%</th>\n",
       "      <td>2.000000</td>\n",
       "      <td>1.000000</td>\n",
       "      <td>4.132952e+07</td>\n",
       "      <td>41.944866</td>\n",
       "      <td>-87.647197</td>\n",
       "      <td>1.000000</td>\n",
       "      <td>5.000000</td>\n",
       "      <td>88.000000</td>\n",
       "      <td>23.000000</td>\n",
       "      <td>1.258312e+07</td>\n",
       "      <td>4.488636</td>\n",
       "    </tr>\n",
       "    <tr>\n",
       "      <th>max</th>\n",
       "      <td>16.000000</td>\n",
       "      <td>6.000000</td>\n",
       "      <td>1.397313e+08</td>\n",
       "      <td>42.022567</td>\n",
       "      <td>-87.526472</td>\n",
       "      <td>500.000000</td>\n",
       "      <td>5.000000</td>\n",
       "      <td>4900.000000</td>\n",
       "      <td>386.000000</td>\n",
       "      <td>1.979231e+07</td>\n",
       "      <td>8.497195</td>\n",
       "    </tr>\n",
       "  </tbody>\n",
       "</table>\n",
       "</div>"
      ],
      "text/plain": [
       "       accommodates      bedrooms       host_id      latitude     longitude  \\\n",
       "count  58045.000000  58045.000000  5.804500e+04  58045.000000  58045.000000   \n",
       "mean       2.158515      1.009682  2.757286e+07     41.905426    -87.667750   \n",
       "std        1.128597      0.152876  2.626225e+07      0.058409      0.038793   \n",
       "min        1.000000      0.000000  2.140000e+03     41.658687    -87.844492   \n",
       "25%        2.000000      1.000000  6.309410e+06     41.873027    -87.689793   \n",
       "50%        2.000000      1.000000  2.066551e+07     41.910493    -87.666321   \n",
       "75%        2.000000      1.000000  4.132952e+07     41.944866    -87.647197   \n",
       "max       16.000000      6.000000  1.397313e+08     42.022567    -87.526472   \n",
       "\n",
       "            minstay  overall_satisfaction         price       reviews  \\\n",
       "count  58045.000000          58045.000000  58045.000000  58045.000000   \n",
       "mean       1.456697              4.081256     78.784167     19.337204   \n",
       "std        5.559643              1.525446    101.522796     33.169271   \n",
       "min        1.000000              0.000000     10.000000      0.000000   \n",
       "25%        1.000000              4.000000     49.000000      1.000000   \n",
       "50%        1.000000              4.500000     65.000000      6.000000   \n",
       "75%        1.000000              5.000000     88.000000     23.000000   \n",
       "max      500.000000              5.000000   4900.000000    386.000000   \n",
       "\n",
       "            room_id     price_log  \n",
       "count  5.804500e+04  58045.000000  \n",
       "mean   8.457172e+06      4.214949  \n",
       "std    4.843903e+06      0.504926  \n",
       "min    1.947000e+03      2.397895  \n",
       "25%    4.662201e+06      3.912023  \n",
       "50%    8.055273e+06      4.189655  \n",
       "75%    1.258312e+07      4.488636  \n",
       "max    1.979231e+07      8.497195  "
      ]
     },
     "execution_count": 23,
     "metadata": {},
     "output_type": "execute_result"
    }
   ],
   "source": [
    "data[data['room_type'] == 'Private room'].describe()"
   ]
  },
  {
   "cell_type": "code",
   "execution_count": 24,
   "metadata": {},
   "outputs": [
    {
     "data": {
      "text/html": [
       "<div>\n",
       "<style scoped>\n",
       "    .dataframe tbody tr th:only-of-type {\n",
       "        vertical-align: middle;\n",
       "    }\n",
       "\n",
       "    .dataframe tbody tr th {\n",
       "        vertical-align: top;\n",
       "    }\n",
       "\n",
       "    .dataframe thead th {\n",
       "        text-align: right;\n",
       "    }\n",
       "</style>\n",
       "<table border=\"1\" class=\"dataframe\">\n",
       "  <thead>\n",
       "    <tr style=\"text-align: right;\">\n",
       "      <th></th>\n",
       "      <th>accommodates</th>\n",
       "      <th>bedrooms</th>\n",
       "      <th>host_id</th>\n",
       "      <th>latitude</th>\n",
       "      <th>longitude</th>\n",
       "      <th>minstay</th>\n",
       "      <th>overall_satisfaction</th>\n",
       "      <th>price</th>\n",
       "      <th>reviews</th>\n",
       "      <th>room_id</th>\n",
       "      <th>price_log</th>\n",
       "    </tr>\n",
       "  </thead>\n",
       "  <tbody>\n",
       "    <tr>\n",
       "      <th>count</th>\n",
       "      <td>94969.000000</td>\n",
       "      <td>94969.000000</td>\n",
       "      <td>9.496900e+04</td>\n",
       "      <td>94969.000000</td>\n",
       "      <td>94969.000000</td>\n",
       "      <td>94969.000000</td>\n",
       "      <td>94969.000000</td>\n",
       "      <td>94969.000000</td>\n",
       "      <td>94969.000000</td>\n",
       "      <td>9.496900e+04</td>\n",
       "      <td>94969.000000</td>\n",
       "    </tr>\n",
       "    <tr>\n",
       "      <th>mean</th>\n",
       "      <td>4.164159</td>\n",
       "      <td>1.551959</td>\n",
       "      <td>2.848108e+07</td>\n",
       "      <td>41.912270</td>\n",
       "      <td>-87.657424</td>\n",
       "      <td>2.091925</td>\n",
       "      <td>3.982552</td>\n",
       "      <td>194.287441</td>\n",
       "      <td>16.375017</td>\n",
       "      <td>8.840120e+06</td>\n",
       "      <td>5.027658</td>\n",
       "    </tr>\n",
       "    <tr>\n",
       "      <th>std</th>\n",
       "      <td>2.262901</td>\n",
       "      <td>1.014644</td>\n",
       "      <td>2.676371e+07</td>\n",
       "      <td>0.044638</td>\n",
       "      <td>0.031989</td>\n",
       "      <td>7.751963</td>\n",
       "      <td>1.599847</td>\n",
       "      <td>239.721100</td>\n",
       "      <td>29.941832</td>\n",
       "      <td>4.840599e+06</td>\n",
       "      <td>0.623297</td>\n",
       "    </tr>\n",
       "    <tr>\n",
       "      <th>min</th>\n",
       "      <td>1.000000</td>\n",
       "      <td>0.000000</td>\n",
       "      <td>3.040000e+02</td>\n",
       "      <td>41.651558</td>\n",
       "      <td>-87.843634</td>\n",
       "      <td>1.000000</td>\n",
       "      <td>0.000000</td>\n",
       "      <td>10.000000</td>\n",
       "      <td>0.000000</td>\n",
       "      <td>1.947000e+03</td>\n",
       "      <td>2.397895</td>\n",
       "    </tr>\n",
       "    <tr>\n",
       "      <th>25%</th>\n",
       "      <td>3.000000</td>\n",
       "      <td>1.000000</td>\n",
       "      <td>6.676305e+06</td>\n",
       "      <td>41.889547</td>\n",
       "      <td>-87.676092</td>\n",
       "      <td>1.000000</td>\n",
       "      <td>4.000000</td>\n",
       "      <td>99.000000</td>\n",
       "      <td>1.000000</td>\n",
       "      <td>5.199241e+06</td>\n",
       "      <td>4.605170</td>\n",
       "    </tr>\n",
       "    <tr>\n",
       "      <th>50%</th>\n",
       "      <td>4.000000</td>\n",
       "      <td>1.000000</td>\n",
       "      <td>2.203892e+07</td>\n",
       "      <td>41.910658</td>\n",
       "      <td>-87.653873</td>\n",
       "      <td>1.000000</td>\n",
       "      <td>4.500000</td>\n",
       "      <td>140.000000</td>\n",
       "      <td>5.000000</td>\n",
       "      <td>8.470200e+06</td>\n",
       "      <td>4.948760</td>\n",
       "    </tr>\n",
       "    <tr>\n",
       "      <th>75%</th>\n",
       "      <td>5.000000</td>\n",
       "      <td>2.000000</td>\n",
       "      <td>4.291585e+07</td>\n",
       "      <td>41.941966</td>\n",
       "      <td>-87.633893</td>\n",
       "      <td>2.000000</td>\n",
       "      <td>5.000000</td>\n",
       "      <td>200.000000</td>\n",
       "      <td>18.000000</td>\n",
       "      <td>1.309860e+07</td>\n",
       "      <td>5.303305</td>\n",
       "    </tr>\n",
       "    <tr>\n",
       "      <th>max</th>\n",
       "      <td>16.000000</td>\n",
       "      <td>10.000000</td>\n",
       "      <td>1.396572e+08</td>\n",
       "      <td>42.022452</td>\n",
       "      <td>-87.534121</td>\n",
       "      <td>365.000000</td>\n",
       "      <td>5.000000</td>\n",
       "      <td>10000.000000</td>\n",
       "      <td>427.000000</td>\n",
       "      <td>1.979121e+07</td>\n",
       "      <td>9.210440</td>\n",
       "    </tr>\n",
       "  </tbody>\n",
       "</table>\n",
       "</div>"
      ],
      "text/plain": [
       "       accommodates      bedrooms       host_id      latitude     longitude  \\\n",
       "count  94969.000000  94969.000000  9.496900e+04  94969.000000  94969.000000   \n",
       "mean       4.164159      1.551959  2.848108e+07     41.912270    -87.657424   \n",
       "std        2.262901      1.014644  2.676371e+07      0.044638      0.031989   \n",
       "min        1.000000      0.000000  3.040000e+02     41.651558    -87.843634   \n",
       "25%        3.000000      1.000000  6.676305e+06     41.889547    -87.676092   \n",
       "50%        4.000000      1.000000  2.203892e+07     41.910658    -87.653873   \n",
       "75%        5.000000      2.000000  4.291585e+07     41.941966    -87.633893   \n",
       "max       16.000000     10.000000  1.396572e+08     42.022452    -87.534121   \n",
       "\n",
       "            minstay  overall_satisfaction         price       reviews  \\\n",
       "count  94969.000000          94969.000000  94969.000000  94969.000000   \n",
       "mean       2.091925              3.982552    194.287441     16.375017   \n",
       "std        7.751963              1.599847    239.721100     29.941832   \n",
       "min        1.000000              0.000000     10.000000      0.000000   \n",
       "25%        1.000000              4.000000     99.000000      1.000000   \n",
       "50%        1.000000              4.500000    140.000000      5.000000   \n",
       "75%        2.000000              5.000000    200.000000     18.000000   \n",
       "max      365.000000              5.000000  10000.000000    427.000000   \n",
       "\n",
       "            room_id     price_log  \n",
       "count  9.496900e+04  94969.000000  \n",
       "mean   8.840120e+06      5.027658  \n",
       "std    4.840599e+06      0.623297  \n",
       "min    1.947000e+03      2.397895  \n",
       "25%    5.199241e+06      4.605170  \n",
       "50%    8.470200e+06      4.948760  \n",
       "75%    1.309860e+07      5.303305  \n",
       "max    1.979121e+07      9.210440  "
      ]
     },
     "execution_count": 24,
     "metadata": {},
     "output_type": "execute_result"
    }
   ],
   "source": [
    "data[data['room_type'] == 'Entire home/apt'].describe()"
   ]
  },
  {
   "cell_type": "code",
   "execution_count": 25,
   "metadata": {},
   "outputs": [
    {
     "data": {
      "text/html": [
       "<div>\n",
       "<style scoped>\n",
       "    .dataframe tbody tr th:only-of-type {\n",
       "        vertical-align: middle;\n",
       "    }\n",
       "\n",
       "    .dataframe tbody tr th {\n",
       "        vertical-align: top;\n",
       "    }\n",
       "\n",
       "    .dataframe thead th {\n",
       "        text-align: right;\n",
       "    }\n",
       "</style>\n",
       "<table border=\"1\" class=\"dataframe\">\n",
       "  <thead>\n",
       "    <tr style=\"text-align: right;\">\n",
       "      <th></th>\n",
       "      <th>accommodates</th>\n",
       "      <th>bedrooms</th>\n",
       "      <th>host_id</th>\n",
       "      <th>latitude</th>\n",
       "      <th>longitude</th>\n",
       "      <th>minstay</th>\n",
       "      <th>overall_satisfaction</th>\n",
       "      <th>price</th>\n",
       "      <th>reviews</th>\n",
       "      <th>room_id</th>\n",
       "      <th>price_log</th>\n",
       "    </tr>\n",
       "  </thead>\n",
       "  <tbody>\n",
       "    <tr>\n",
       "      <th>count</th>\n",
       "      <td>6157.000000</td>\n",
       "      <td>6157.000000</td>\n",
       "      <td>6.157000e+03</td>\n",
       "      <td>6157.000000</td>\n",
       "      <td>6157.000000</td>\n",
       "      <td>6157.000000</td>\n",
       "      <td>6157.000000</td>\n",
       "      <td>6157.000000</td>\n",
       "      <td>6157.000000</td>\n",
       "      <td>6.157000e+03</td>\n",
       "      <td>6157.000000</td>\n",
       "    </tr>\n",
       "    <tr>\n",
       "      <th>mean</th>\n",
       "      <td>2.212604</td>\n",
       "      <td>1.004060</td>\n",
       "      <td>3.018719e+07</td>\n",
       "      <td>41.905356</td>\n",
       "      <td>-87.663339</td>\n",
       "      <td>1.439337</td>\n",
       "      <td>3.899302</td>\n",
       "      <td>57.950625</td>\n",
       "      <td>12.018028</td>\n",
       "      <td>8.956100e+06</td>\n",
       "      <td>3.758663</td>\n",
       "    </tr>\n",
       "    <tr>\n",
       "      <th>std</th>\n",
       "      <td>1.819445</td>\n",
       "      <td>0.149125</td>\n",
       "      <td>2.601240e+07</td>\n",
       "      <td>0.068060</td>\n",
       "      <td>0.037360</td>\n",
       "      <td>3.512777</td>\n",
       "      <td>1.550381</td>\n",
       "      <td>77.539062</td>\n",
       "      <td>19.681772</td>\n",
       "      <td>4.738380e+06</td>\n",
       "      <td>0.706287</td>\n",
       "    </tr>\n",
       "    <tr>\n",
       "      <th>min</th>\n",
       "      <td>1.000000</td>\n",
       "      <td>0.000000</td>\n",
       "      <td>2.140000e+03</td>\n",
       "      <td>41.703528</td>\n",
       "      <td>-87.842138</td>\n",
       "      <td>1.000000</td>\n",
       "      <td>0.000000</td>\n",
       "      <td>10.000000</td>\n",
       "      <td>0.000000</td>\n",
       "      <td>1.108700e+04</td>\n",
       "      <td>2.397895</td>\n",
       "    </tr>\n",
       "    <tr>\n",
       "      <th>25%</th>\n",
       "      <td>1.000000</td>\n",
       "      <td>1.000000</td>\n",
       "      <td>7.391164e+06</td>\n",
       "      <td>41.856668</td>\n",
       "      <td>-87.685411</td>\n",
       "      <td>1.000000</td>\n",
       "      <td>4.000000</td>\n",
       "      <td>25.000000</td>\n",
       "      <td>0.000000</td>\n",
       "      <td>5.716097e+06</td>\n",
       "      <td>3.258097</td>\n",
       "    </tr>\n",
       "    <tr>\n",
       "      <th>50%</th>\n",
       "      <td>2.000000</td>\n",
       "      <td>1.000000</td>\n",
       "      <td>2.657073e+07</td>\n",
       "      <td>41.911394</td>\n",
       "      <td>-87.658867</td>\n",
       "      <td>1.000000</td>\n",
       "      <td>4.500000</td>\n",
       "      <td>39.000000</td>\n",
       "      <td>4.000000</td>\n",
       "      <td>8.588594e+06</td>\n",
       "      <td>3.688879</td>\n",
       "    </tr>\n",
       "    <tr>\n",
       "      <th>75%</th>\n",
       "      <td>2.000000</td>\n",
       "      <td>1.000000</td>\n",
       "      <td>4.435845e+07</td>\n",
       "      <td>41.949954</td>\n",
       "      <td>-87.643904</td>\n",
       "      <td>1.000000</td>\n",
       "      <td>5.000000</td>\n",
       "      <td>62.000000</td>\n",
       "      <td>15.000000</td>\n",
       "      <td>1.310119e+07</td>\n",
       "      <td>4.143135</td>\n",
       "    </tr>\n",
       "    <tr>\n",
       "      <th>max</th>\n",
       "      <td>16.000000</td>\n",
       "      <td>10.000000</td>\n",
       "      <td>1.392545e+08</td>\n",
       "      <td>42.022929</td>\n",
       "      <td>-87.556144</td>\n",
       "      <td>100.000000</td>\n",
       "      <td>5.000000</td>\n",
       "      <td>1000.000000</td>\n",
       "      <td>146.000000</td>\n",
       "      <td>1.976370e+07</td>\n",
       "      <td>6.908755</td>\n",
       "    </tr>\n",
       "  </tbody>\n",
       "</table>\n",
       "</div>"
      ],
      "text/plain": [
       "       accommodates     bedrooms       host_id     latitude    longitude  \\\n",
       "count   6157.000000  6157.000000  6.157000e+03  6157.000000  6157.000000   \n",
       "mean       2.212604     1.004060  3.018719e+07    41.905356   -87.663339   \n",
       "std        1.819445     0.149125  2.601240e+07     0.068060     0.037360   \n",
       "min        1.000000     0.000000  2.140000e+03    41.703528   -87.842138   \n",
       "25%        1.000000     1.000000  7.391164e+06    41.856668   -87.685411   \n",
       "50%        2.000000     1.000000  2.657073e+07    41.911394   -87.658867   \n",
       "75%        2.000000     1.000000  4.435845e+07    41.949954   -87.643904   \n",
       "max       16.000000    10.000000  1.392545e+08    42.022929   -87.556144   \n",
       "\n",
       "           minstay  overall_satisfaction        price      reviews  \\\n",
       "count  6157.000000           6157.000000  6157.000000  6157.000000   \n",
       "mean      1.439337              3.899302    57.950625    12.018028   \n",
       "std       3.512777              1.550381    77.539062    19.681772   \n",
       "min       1.000000              0.000000    10.000000     0.000000   \n",
       "25%       1.000000              4.000000    25.000000     0.000000   \n",
       "50%       1.000000              4.500000    39.000000     4.000000   \n",
       "75%       1.000000              5.000000    62.000000    15.000000   \n",
       "max     100.000000              5.000000  1000.000000   146.000000   \n",
       "\n",
       "            room_id    price_log  \n",
       "count  6.157000e+03  6157.000000  \n",
       "mean   8.956100e+06     3.758663  \n",
       "std    4.738380e+06     0.706287  \n",
       "min    1.108700e+04     2.397895  \n",
       "25%    5.716097e+06     3.258097  \n",
       "50%    8.588594e+06     3.688879  \n",
       "75%    1.310119e+07     4.143135  \n",
       "max    1.976370e+07     6.908755  "
      ]
     },
     "execution_count": 25,
     "metadata": {},
     "output_type": "execute_result"
    }
   ],
   "source": [
    "data[data['room_type'] == 'Shared room'].describe()"
   ]
  },
  {
   "cell_type": "code",
   "execution_count": 26,
   "metadata": {},
   "outputs": [
    {
     "name": "stdout",
     "output_type": "stream",
     "text": [
      "For a shared room, the maximum value of satisfaction with regard to the number of reviews is 4.75 while the maximum value outside of the highest bucket of values is  4.6616352201257865\n"
     ]
    },
    {
     "data": {
      "image/png": "[encoded data removed]",
      "text/plain": [
       "<Figure size 576x576 with 1 Axes>"
      ]
     },
     "metadata": {},
     "output_type": "display_data"
    }
   ],
   "source": [
    "shared = data[data['room_type'] == 'Shared room'] \n",
    "myList = []\n",
    "for i in range(math.floor(shared.reviews.max()/10)):\n",
    "    criteria1 = shared['reviews'] >= i*10 \n",
    "    criteria2 = shared['reviews'] < (i*10 + 10)\n",
    "    allcriteria = criteria1 & criteria2\n",
    "    myList.append(shared[allcriteria].overall_satisfaction.mean())\n",
    "plt.bar([i * 10 + 5 for i in range(math.floor((shared.reviews.max()/10)))],myList, width = 10)\n",
    "plt.xlabel('Number of Reviews')\n",
    "plt.ylabel('Overall Satisfaction')\n",
    "plt.title('Shared Room Reviews vs. Customer Satisfaction')\n",
    "plt.ylim([3, 5])\n",
    "print(\"For a shared room, the maximum value of satisfaction with regard to the number of reviews is\", max(myList), \"while the maximum value outside of the highest bucket of values is \", max(myList[:-1]))"
   ]
  },
  {
   "cell_type": "code",
   "execution_count": 27,
   "metadata": {
    "scrolled": true
   },
   "outputs": [
    {
     "name": "stdout",
     "output_type": "stream",
     "text": [
      "For a private room, the maximum value with regard to the number of reviews is 4.887596899224806 and the value in the highest bucket of values is  4.5\n"
     ]
    },
    {
     "data": {
      "image/png": "[encoded data removed]",
      "text/plain": [
       "<Figure size 576x576 with 1 Axes>"
      ]
     },
     "metadata": {},
     "output_type": "display_data"
    }
   ],
   "source": [
    "private = data[data['room_type'] == 'Private room'] \n",
    "myList = []\n",
    "for i in range(math.floor(private.reviews.max()/20)):\n",
    "    criteria1 = private['reviews'] >= i*20\n",
    "    criteria2 = private['reviews'] < (i*20 + 21)\n",
    "    allcriteria = criteria1 & criteria2\n",
    "    myList.append(private[allcriteria].overall_satisfaction.mean())\n",
    "plt.bar([i * 20 + 10 for i in range(math.floor((private.reviews.max()/20)))],myList, width = 20)\n",
    "plt.xlabel('Number of Reviews')\n",
    "plt.ylabel('Overall Satisfaction')\n",
    "plt.title('Private Room Reviews vs. Customer Satisfaction')\n",
    "plt.ylim([3, 5])\n",
    "print(\"For a private room, the maximum value with regard to the number of reviews is\", max(myList), \"and the value in the highest bucket of values is \", myList[-1])"
   ]
  },
  {
   "cell_type": "code",
   "execution_count": 28,
   "metadata": {},
   "outputs": [
    {
     "name": "stdout",
     "output_type": "stream",
     "text": [
      "For an entire home/apt, the maximum value with regard to the number of reviews is 4.875 while the maximum value outside of the highest bucket of values is  4.838235294117647\n"
     ]
    },
    {
     "data": {
      "image/png": "[encoded data removed]",
      "text/plain": [
       "<Figure size 576x576 with 1 Axes>"
      ]
     },
     "metadata": {},
     "output_type": "display_data"
    }
   ],
   "source": [
    "entire = data[data['room_type'] == 'Entire home/apt'] \n",
    "myList = []\n",
    "for i in range(math.floor(entire.reviews.max()/20)):\n",
    "    criteria1 = entire['reviews'] >= i*20\n",
    "    criteria2 = entire['reviews'] < (i*20 + 21)\n",
    "    allcriteria = criteria1 & criteria2\n",
    "    myList.append(entire[allcriteria].overall_satisfaction.mean())\n",
    "plt.bar([i * 20 + 10 for i in range(math.floor((entire.reviews.max()/20)))],myList, width = 20)\n",
    "plt.xlabel('Number of Reviews')\n",
    "plt.ylabel('Overall Satisfaction')\n",
    "plt.title('Entire Home/apt Reviews vs. Customer Satisfaction')\n",
    "plt.ylim([3, 5])\n",
    "print(\"For an entire home/apt, the maximum value with regard to the number of reviews is\", max(myList), \"while the maximum value outside of the highest bucket of values is \", max(myList[:-1]))"
   ]
  },
  {
   "cell_type": "code",
   "execution_count": 29,
   "metadata": {},
   "outputs": [
    {
     "name": "stdout",
     "output_type": "stream",
     "text": [
      "27.52964105895728 % of shared rooms recieve a 5 star rating.\n",
      "40.656424728069155 % of entire rooms recieve a 5 star rating.\n",
      "44.44655009044707 % of private rooms recieve a 5 star rating.\n"
     ]
    }
   ],
   "source": [
    "print(len(shared[shared['overall_satisfaction'] == 5])/len(shared) * 100, '%', \"of shared rooms recieve a 5 star rating.\")\n",
    "print(len(entire[entire['overall_satisfaction'] == 5])/len(entire) * 100, '%', \"of entire rooms recieve a 5 star rating.\")\n",
    "print(len(private[private['overall_satisfaction'] == 5])/len(private) * 100, '%', \"of private rooms recieve a 5 star rating.\")"
   ]
  },
  {
   "cell_type": "code",
   "execution_count": 30,
   "metadata": {},
   "outputs": [
    {
     "name": "stdout",
     "output_type": "stream",
     "text": [
      "For shared rooms, listings which are priced above the mean of $57.95 have an average satisfaction rating of 3.633153638814016 and  8.591846678577229 % of these listings recieve a 5 star rating.\n",
      "For shared rooms, listings which are priced below the mean of $57.95 have an average satisfaction rating of 4.014063226406322 and  18.937794380380055 % of these listings recieve a 5 star rating.\n"
     ]
    }
   ],
   "source": [
    "criteria1 = shared['price'] > shared['price'].mean()\n",
    "criteria2 = shared['overall_satisfaction'] == 5\n",
    "allcriteria = criteria1 & criteria2\n",
    "print(\"For shared rooms, listings which are priced above the mean of $57.95 have an average satisfaction rating of\", shared[criteria1].overall_satisfaction.mean(), \"and \", len(shared[allcriteria])/len(shared) * 100, \"% of these listings recieve a 5 star rating.\")\n",
    "criteria1 = shared['price'] < shared['price'].mean()\n",
    "allcriteria = criteria1 & criteria2\n",
    "print(\"For shared rooms, listings which are priced below the mean of $57.95 have an average satisfaction rating of\", shared[criteria1].overall_satisfaction.mean(), \"and \", len(shared[allcriteria])/len(shared) * 100, \"% of these listings recieve a 5 star rating.\")"
   ]
  },
  {
   "cell_type": "code",
   "execution_count": 31,
   "metadata": {},
   "outputs": [
    {
     "name": "stdout",
     "output_type": "stream",
     "text": [
      "For an entire house/apt, listings which are priced above the mean of $194.28 have an average satisfaction rating of 3.738832443602549 and  11.32369510050648 % of these listings recieve a 5 star rating.\n",
      "For an entire house/apt, listings which are priced below the mean of $194.28 have an average satisfaction rating of 4.089877756544423 and  29.332729627562674 % of these listings recieve a 5 star rating.\n"
     ]
    }
   ],
   "source": [
    "criteria1 = entire['price'] > entire['price'].mean()\n",
    "criteria2 = entire['overall_satisfaction'] == 5\n",
    "allcriteria = criteria1 & criteria2\n",
    "print(\"For an entire house/apt, listings which are priced above the mean of $194.28 have an average satisfaction rating of\", entire[criteria1].overall_satisfaction.mean(), \"and \", len(entire[allcriteria])/len(entire) * 100, \"% of these listings recieve a 5 star rating.\")\n",
    "criteria1 = entire['price'] < entire['price'].mean()\n",
    "allcriteria = criteria1 & criteria2\n",
    "print(\"For an entire house/apt, listings which are priced below the mean of $194.28 have an average satisfaction rating of\", entire[criteria1].overall_satisfaction.mean(), \"and \", len(entire[allcriteria])/len(entire) * 100, \"% of these listings recieve a 5 star rating.\")"
   ]
  },
  {
   "cell_type": "code",
   "execution_count": 32,
   "metadata": {},
   "outputs": [
    {
     "name": "stdout",
     "output_type": "stream",
     "text": [
      "For a private room, listings which are priced above the mean of $78.78 have an average satisfaction rating of 4.011962827950916 and  15.277801705573262 % of these listings recieve a 5 star rating.\n",
      "For a private room, listings which are priced below the mean of $78.78 have an average satisfaction rating of 4.116249222153081 and  29.168748384873805 % of these listings recieve a 5 star rating.\n"
     ]
    }
   ],
   "source": [
    "criteria1 = private['price'] > private['price'].mean()\n",
    "criteria2 = private['overall_satisfaction'] == 5\n",
    "allcriteria = criteria1 & criteria2\n",
    "print(\"For a private room, listings which are priced above the mean of $78.78 have an average satisfaction rating of\", private[criteria1].overall_satisfaction.mean(), \"and \", len(private[allcriteria])/len(private) * 100, \"% of these listings recieve a 5 star rating.\")\n",
    "criteria1 = private['price'] < private['price'].mean()\n",
    "allcriteria = criteria1 & criteria2\n",
    "print(\"For a private room, listings which are priced below the mean of $78.78 have an average satisfaction rating of\", private[criteria1].overall_satisfaction.mean(), \"and \", len(private[allcriteria])/len(private) * 100, \"% of these listings recieve a 5 star rating.\")"
   ]
  },
  {
   "cell_type": "code",
   "execution_count": 33,
   "metadata": {},
   "outputs": [
    {
     "name": "stdout",
     "output_type": "stream",
     "text": [
      "69.46564885496184 % of shared room listings have 10 or less reviews.\n",
      "69.87169075848627 % of shared room listings are priced below the mean.\n",
      "59.366009130846756 % of private room listings have 10 or less reviews.\n",
      "66.44499956929968 % of private room listings are priced below the mean.\n",
      "64.45998167823184 % of entire house/apt listings have 10 or less reviews.\n",
      "69.4268656087776 % of entire house/apt listings are priced below the mean.\n"
     ]
    }
   ],
   "source": [
    "criteria1 = shared['reviews'] >= 0\n",
    "criteria2 = shared['reviews'] <= 10\n",
    "allcriteria = criteria1 & criteria2\n",
    "criteria1 = shared['price'] < shared['price'].mean()\n",
    "print(len(shared[allcriteria])/len(shared) * 100, \"% of shared room listings have 10 or less reviews.\")\n",
    "print(sum(criteria1)/len(shared) * 100, \"% of shared room listings are priced below the mean.\")\n",
    "\n",
    "\n",
    "criteria1 = private['reviews'] >= 0\n",
    "criteria2 = private['reviews'] <= 10\n",
    "allcriteria = criteria1 & criteria2\n",
    "criteria1 = private['price'] < private['price'].mean()\n",
    "print(len(private[allcriteria])/len(private) * 100, \"% of private room listings have 10 or less reviews.\")\n",
    "print(sum(criteria1)/len(private) * 100, \"% of private room listings are priced below the mean.\")\n",
    "\n",
    "\n",
    "criteria1 = entire['reviews'] >= 0\n",
    "criteria2 = entire['reviews'] <= 10\n",
    "allcriteria = criteria1 & criteria2\n",
    "criteria1 = entire['price'] < entire['price'].mean()\n",
    "print(len(entire[allcriteria])/len(entire) * 100, \"% of entire house/apt listings have 10 or less reviews.\")\n",
    "print(sum(criteria1)/len(entire) * 100, \"% of entire house/apt listings are priced below the mean.\")"
   ]
  },
  {
   "cell_type": "code",
   "execution_count": 34,
   "metadata": {},
   "outputs": [
    {
     "data": {
      "text/plain": [
       "(3, 5)"
      ]
     },
     "execution_count": 34,
     "metadata": {},
     "output_type": "execute_result"
    },
    {
     "data": {
      "image/png": "[encoded data removed]",
      "text/plain": [
       "<Figure size 576x576 with 1 Axes>"
      ]
     },
     "metadata": {},
     "output_type": "display_data"
    }
   ],
   "source": [
    "myList = []\n",
    "for i in range(20):\n",
    "    myList.append(data[data.minstay == i].overall_satisfaction.mean())\n",
    "plt.bar([i for i in range(20)],myList, width = 1)\n",
    "plt.xticks([i * 2 for i in range(10)])\n",
    "plt.ylim([3, 5])"
   ]
  },
  {
   "cell_type": "code",
   "execution_count": 35,
   "metadata": {},
   "outputs": [
    {
     "name": "stdout",
     "output_type": "stream",
     "text": [
      "<class 'pandas.core.frame.DataFrame'>\n",
      "Int64Index: 159181 entries, 0 to 5810\n",
      "Data columns (total 17 columns):\n",
      "accommodates            159181 non-null float64\n",
      "bedrooms                159181 non-null float64\n",
      "host_id                 159178 non-null float64\n",
      "last_modified           159181 non-null object\n",
      "latitude                159181 non-null float64\n",
      "longitude               159181 non-null float64\n",
      "minstay                 159181 non-null float64\n",
      "neighborhood            159181 non-null object\n",
      "overall_satisfaction    159181 non-null float64\n",
      "price                   159181 non-null float64\n",
      "reviews                 159181 non-null int64\n",
      "room_id                 159181 non-null int64\n",
      "room_type               159171 non-null object\n",
      "price_log               159181 non-null float64\n",
      "Entire home/apt         159181 non-null uint8\n",
      "Private room            159181 non-null uint8\n",
      "Shared room             159181 non-null uint8\n",
      "dtypes: float64(9), int64(2), object(3), uint8(3)\n",
      "memory usage: 20.9+ MB\n"
     ]
    }
   ],
   "source": [
    "dummies = pd.get_dummies(data['room_type'])\n",
    "final_data = pd.concat([data, dummies], axis = 1)\n",
    "final_data.info()"
   ]
  },
  {
   "cell_type": "code",
   "execution_count": 36,
   "metadata": {},
   "outputs": [],
   "source": [
    "X = final_data[['accommodates', 'bedrooms', 'price', 'reviews', 'Entire home/apt', 'Private room', 'Shared room']]\n",
    "y = final_data['overall_satisfaction']"
   ]
  },
  {
   "cell_type": "code",
   "execution_count": 39,
   "metadata": {},
   "outputs": [
    {
     "name": "stdout",
     "output_type": "stream",
     "text": [
      "[[1.         0.28140201]\n",
      " [0.28140201 1.        ]]\n",
      "[-2.99414834 -2.2461517  -2.22596283 -0.11550685 -0.06586559]\n"
     ]
    },
    {
     "data": {
      "image/png": "[encoded data removed]",
      "text/plain": [
       "<Figure size 576x576 with 1 Axes>"
      ]
     },
     "metadata": {},
     "output_type": "display_data"
    }
   ],
   "source": [
    "from sklearn.linear_model import LinearRegression\n",
    "from sklearn.model_selection import train_test_split\n",
    "from sklearn.model_selection import cross_val_score\n",
    "\n",
    "\n",
    "X_train, X_test, y_train, y_test = train_test_split(X, y, test_size = .25, random_state = 42)\n",
    "lr = LinearRegression()\n",
    "lr.fit(X_train, y_train)\n",
    "lr.predict(X_test)\n",
    "plt.scatter(y_test, lr.predict(X_test))\n",
    "plt.xlabel(\"Actual Data\")\n",
    "plt.ylabel(\"Predicted Data\")\n",
    "print(np.corrcoef(y_test, lr.predict(X_test)))\n",
    "cv_scores = cross_val_score(lr, X, y, cv = 5)\n",
    "print(cv_scores)"
   ]
  },
  {
   "cell_type": "markdown",
   "metadata": {},
   "source": [
    "+ It is apparent that Linear Regression does not work. Not only are there data points outside the 0 to 5 range, but there is almost no correlation between the actual and predicted values of the model. The limitations of the linear regression model alongside the problem at hand makes this a bad choice. "
   ]
  },
  {
   "cell_type": "code",
   "execution_count": 87,
   "metadata": {},
   "outputs": [
    {
     "name": "stdout",
     "output_type": "stream",
     "text": [
      "0.6096341340838275\n",
      "[[21037  2102]\n",
      " [13433  3224]]\n",
      "             precision    recall  f1-score   support\n",
      "\n",
      "      False       0.61      0.91      0.73     23139\n",
      "       True       0.61      0.19      0.29     16657\n",
      "\n",
      "avg / total       0.61      0.61      0.55     39796\n",
      "\n"
     ]
    }
   ],
   "source": [
    "from sklearn.linear_model import LogisticRegression\n",
    "from sklearn.metrics import accuracy_score, confusion_matrix, classification_report\n",
    "X_new = X[['accommodates', 'bedrooms', 'price', 'reviews']]\n",
    "X_train_lr, X_test_lr, y_train_lr, y_test_lr = train_test_split(X_new, (data['overall_satisfaction'] == 5).values, test_size = .25, random_state = 42)\n",
    "\n",
    "z = LogisticRegression()\n",
    "\n",
    "z.fit(X_train_lr, y_train_lr)\n",
    "\n",
    "y_pred_lr = z.predict(X_test_lr)\n",
    "print(accuracy_score(y_test_lr, y_pred_lr))\n",
    "print(confusion_matrix(y_test_lr, y_pred_lr))\n",
    "print(classification_report(y_test_lr, y_pred_lr))"
   ]
  },
  {
   "cell_type": "code",
   "execution_count": 88,
   "metadata": {},
   "outputs": [
    {
     "name": "stdout",
     "output_type": "stream",
     "text": [
      "0.6116192582169062\n",
      "[[21007  2132]\n",
      " [13324  3333]]\n",
      "             precision    recall  f1-score   support\n",
      "\n",
      "      False       0.61      0.91      0.73     23139\n",
      "       True       0.61      0.20      0.30     16657\n",
      "\n",
      "avg / total       0.61      0.61      0.55     39796\n",
      "\n"
     ]
    }
   ],
   "source": [
    "X_train_lr, X_test_lr, y_train_lr, y_test_lr = train_test_split(X, (data['overall_satisfaction'] == 5).values, test_size = .25, random_state = 42)\n",
    "\n",
    "z = LogisticRegression()\n",
    "\n",
    "z.fit(X_train_lr, y_train_lr)\n",
    "\n",
    "y_pred_lr = z.predict(X_test_lr)\n",
    "\n",
    "print(accuracy_score(y_test_lr, y_pred_lr))\n",
    "print(confusion_matrix(y_test_lr, y_pred_lr))\n",
    "print(classification_report(y_test_lr, y_pred_lr))"
   ]
  },
  {
   "cell_type": "code",
   "execution_count": 102,
   "metadata": {
    "scrolled": true
   },
   "outputs": [
    {
     "name": "stdout",
     "output_type": "stream",
     "text": [
      "Correlation coefficient for 10 estimators is: 0.6841228522075095\n",
      "Correlation coefficient for 20 estimators is: 0.6871715362061519\n",
      "Correlation coefficient for 30 estimators is: 0.6880103818865451\n",
      "Correlation coefficient for 40 estimators is: 0.6879529986920331\n",
      "Correlation coefficient for 50 estimators is: 0.6883874647229523\n",
      "Correlation coefficient for 60 estimators is: 0.6885016432645795\n",
      "Correlation coefficient for 70 estimators is: 0.6887983747530886\n",
      "Correlation coefficient for 80 estimators is: 0.6888615063374267\n",
      "Correlation coefficient for 90 estimators is: 0.6888552505743502\n",
      "Correlation coefficient for 100 estimators is: 0.689215325442541\n"
     ]
    }
   ],
   "source": [
    "from sklearn.ensemble import RandomForestRegressor\n",
    "\n",
    "X_train_rf, X_test_rf, y_train_rf, y_test_rf = train_test_split(X, y, test_size = .25, random_state = 42)\n",
    "\n",
    "for i in range(10, 110, 10):\n",
    "    reg = RandomForestRegressor(n_estimators = i)\n",
    "    reg.fit(X_train_rf, y_train_rf)\n",
    "    print(\"Correlation coefficient for\", i, \"estimators is:\", np.corrcoef(reg.predict(X_test_rf), y_test_rf)[0][1])"
   ]
  },
  {
   "cell_type": "code",
   "execution_count": 126,
   "metadata": {},
   "outputs": [
    {
     "data": {
      "text/plain": [
       "<seaborn.axisgrid.JointGrid at 0x19fe6770>"
      ]
     },
     "execution_count": 126,
     "metadata": {},
     "output_type": "execute_result"
    },
    {
     "data": {
      "image/png": "[encoded data removed]",
      "text/plain": [
       "<Figure size 432x432 with 3 Axes>"
      ]
     },
     "metadata": {},
     "output_type": "display_data"
    }
   ],
   "source": [
    "reg = RandomForestRegressor(n_estimators = 100)\n",
    "reg.fit(X_train_rf, y_train_rf)\n",
    "sns.jointplot(y_test_rf, reg.predict(X_test_rf), kind = \"reg\").set_axis_labels(\"Actual\", \"Predicted\")\n",
    "\n",
    "\n"
   ]
  },
  {
   "cell_type": "code",
   "execution_count": 130,
   "metadata": {},
   "outputs": [
    {
     "name": "stdout",
     "output_type": "stream",
     "text": [
      "0.7957081113679767\n",
      "             precision    recall  f1-score   support\n",
      "\n",
      "      False       0.82      0.82      0.82     23139\n",
      "       True       0.76      0.76      0.76     16657\n",
      "\n",
      "avg / total       0.80      0.80      0.80     39796\n",
      "\n",
      "[('accommodates', 0.049390020096654955), ('bedrooms', 0.019638118864193574), ('price', 0.32906927238359013), ('reviews', 0.5951092611893292), ('Entire home/apt', 0.0015330724495261632), ('Private room', 0.001952488372743379), ('Shared room', 0.0033077666439625696)]\n"
     ]
    }
   ],
   "source": [
    "from sklearn.ensemble import RandomForestClassifier\n",
    "\n",
    "clf = RandomForestClassifier(n_jobs=2, random_state=0)\n",
    "X_train_rfc, X_test_rfc, y_train_rfc, y_test_rfc = train_test_split(X, (data['overall_satisfaction'] == 5).values, test_size = .25, random_state = 42)\n",
    "clf.fit(X_train_rfc, y_train_rfc)\n",
    "y_pred_rfc = clf.predict(X_test_rfc)\n",
    "print(accuracy_score(y_pred_rfc, y_test_rfc))\n",
    "print(classification_report(y_test_lr, y_pred_rfc))\n",
    "print(list(zip(X, clf.feature_importances_)))"
   ]
  },
  {
   "cell_type": "code",
   "execution_count": 117,
   "metadata": {},
   "outputs": [],
   "source": []
  },
  {
   "cell_type": "code",
   "execution_count": null,
   "metadata": {},
   "outputs": [],
   "source": []
  }
 ],
 "metadata": {
  "kernelspec": {
   "display_name": "Python 3",
   "language": "python",
   "name": "python3"
  },
  "language_info": {
   "codemirror_mode": {
    "name": "ipython",
    "version": 3
   },
   "file_extension": ".py",
   "mimetype": "text/x-python",
   "name": "python",
   "nbconvert_exporter": "python",
   "pygments_lexer": "ipython3",
   "version": "3.7.0"
  }
 },
 "nbformat": 4,
 "nbformat_minor": 2
}
